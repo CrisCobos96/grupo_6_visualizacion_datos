{
 "cells": [
  {
   "cell_type": "code",
   "execution_count": 1,
   "metadata": {},
   "outputs": [],
   "source": [
    "# archivo para prácticas \n",
    "\n",
    "import pandas as pd\n",
    "\n",
    "data=pd.read_csv('./clinical_analytics.csv')"
   ]
  },
  {
   "cell_type": "code",
   "execution_count": 2,
   "metadata": {},
   "outputs": [
    {
     "data": {
      "text/html": [
       "<div>\n",
       "<style scoped>\n",
       "    .dataframe tbody tr th:only-of-type {\n",
       "        vertical-align: middle;\n",
       "    }\n",
       "\n",
       "    .dataframe tbody tr th {\n",
       "        vertical-align: top;\n",
       "    }\n",
       "\n",
       "    .dataframe thead th {\n",
       "        text-align: right;\n",
       "    }\n",
       "</style>\n",
       "<table border=\"1\" class=\"dataframe\">\n",
       "  <thead>\n",
       "    <tr style=\"text-align: right;\">\n",
       "      <th></th>\n",
       "      <th>Admit Source</th>\n",
       "      <th>Admit Type</th>\n",
       "      <th>Appt Start Time</th>\n",
       "      <th>Care Score</th>\n",
       "      <th>Check-In Time</th>\n",
       "      <th>Clinic Name</th>\n",
       "      <th>Department</th>\n",
       "      <th>Diagnosis Primary</th>\n",
       "      <th>Discharge Datetime new</th>\n",
       "      <th>Encounter Number</th>\n",
       "      <th>Encounter Status</th>\n",
       "      <th>Number of Records</th>\n",
       "      <th>Wait Time Min</th>\n",
       "    </tr>\n",
       "  </thead>\n",
       "  <tbody>\n",
       "    <tr>\n",
       "      <th>0</th>\n",
       "      <td>Emergency Room</td>\n",
       "      <td>Emergency</td>\n",
       "      <td>2014-01-02 11:38:50 PM</td>\n",
       "      <td>2</td>\n",
       "      <td>2014-01-02 11:24:00 PM</td>\n",
       "      <td>Madison Center</td>\n",
       "      <td>Cardiology</td>\n",
       "      <td>NaN</td>\n",
       "      <td>NaN</td>\n",
       "      <td>P7P4KC587</td>\n",
       "      <td>Cancelled</td>\n",
       "      <td>1</td>\n",
       "      <td>14</td>\n",
       "    </tr>\n",
       "    <tr>\n",
       "      <th>1</th>\n",
       "      <td>Emergency Room</td>\n",
       "      <td>Emergency</td>\n",
       "      <td>2014-01-02 11:44:18 PM</td>\n",
       "      <td>2</td>\n",
       "      <td>2014-01-02 11:24:00 PM</td>\n",
       "      <td>Madison Center</td>\n",
       "      <td>Cardiology</td>\n",
       "      <td>NaN</td>\n",
       "      <td>NaN</td>\n",
       "      <td>P7P4KC587</td>\n",
       "      <td>Cancelled</td>\n",
       "      <td>1</td>\n",
       "      <td>20</td>\n",
       "    </tr>\n",
       "    <tr>\n",
       "      <th>2</th>\n",
       "      <td>Emergency Room</td>\n",
       "      <td>Emergency</td>\n",
       "      <td>2014-01-02 11:47:11 PM</td>\n",
       "      <td>2</td>\n",
       "      <td>2014-01-02 11:24:00 PM</td>\n",
       "      <td>Madison Center</td>\n",
       "      <td>Cardiology</td>\n",
       "      <td>NaN</td>\n",
       "      <td>NaN</td>\n",
       "      <td>P7P4KC587</td>\n",
       "      <td>Cancelled</td>\n",
       "      <td>1</td>\n",
       "      <td>23</td>\n",
       "    </tr>\n",
       "    <tr>\n",
       "      <th>3</th>\n",
       "      <td>Emergency Room</td>\n",
       "      <td>Emergency</td>\n",
       "      <td>2014-01-08 10:38:04 PM</td>\n",
       "      <td>4</td>\n",
       "      <td>2014-01-08 9:00:00 PM</td>\n",
       "      <td>Madison Center</td>\n",
       "      <td>Emergency</td>\n",
       "      <td>NaN</td>\n",
       "      <td>NaN</td>\n",
       "      <td>PK559C587</td>\n",
       "      <td>Cancelled</td>\n",
       "      <td>1</td>\n",
       "      <td>98</td>\n",
       "    </tr>\n",
       "    <tr>\n",
       "      <th>4</th>\n",
       "      <td>Emergency Room</td>\n",
       "      <td>Emergency</td>\n",
       "      <td>2014-01-09 12:00:26 AM</td>\n",
       "      <td>4</td>\n",
       "      <td>2014-01-08 10:47:00 PM</td>\n",
       "      <td>Madison Center</td>\n",
       "      <td>Emergency</td>\n",
       "      <td>NaN</td>\n",
       "      <td>NaN</td>\n",
       "      <td>48559C587</td>\n",
       "      <td>Cancelled</td>\n",
       "      <td>1</td>\n",
       "      <td>73</td>\n",
       "    </tr>\n",
       "  </tbody>\n",
       "</table>\n",
       "</div>"
      ],
      "text/plain": [
       "     Admit Source Admit Type         Appt Start Time  Care Score  \\\n",
       "0  Emergency Room  Emergency  2014-01-02 11:38:50 PM           2   \n",
       "1  Emergency Room  Emergency  2014-01-02 11:44:18 PM           2   \n",
       "2  Emergency Room  Emergency  2014-01-02 11:47:11 PM           2   \n",
       "3  Emergency Room  Emergency  2014-01-08 10:38:04 PM           4   \n",
       "4  Emergency Room  Emergency  2014-01-09 12:00:26 AM           4   \n",
       "\n",
       "            Check-In Time     Clinic Name  Department Diagnosis Primary  \\\n",
       "0  2014-01-02 11:24:00 PM  Madison Center  Cardiology               NaN   \n",
       "1  2014-01-02 11:24:00 PM  Madison Center  Cardiology               NaN   \n",
       "2  2014-01-02 11:24:00 PM  Madison Center  Cardiology               NaN   \n",
       "3   2014-01-08 9:00:00 PM  Madison Center   Emergency               NaN   \n",
       "4  2014-01-08 10:47:00 PM  Madison Center   Emergency               NaN   \n",
       "\n",
       "  Discharge Datetime new Encounter Number Encounter Status  Number of Records  \\\n",
       "0                    NaN        P7P4KC587        Cancelled                  1   \n",
       "1                    NaN        P7P4KC587        Cancelled                  1   \n",
       "2                    NaN        P7P4KC587        Cancelled                  1   \n",
       "3                    NaN        PK559C587        Cancelled                  1   \n",
       "4                    NaN        48559C587        Cancelled                  1   \n",
       "\n",
       "   Wait Time Min  \n",
       "0             14  \n",
       "1             20  \n",
       "2             23  \n",
       "3             98  \n",
       "4             73  "
      ]
     },
     "execution_count": 2,
     "metadata": {},
     "output_type": "execute_result"
    }
   ],
   "source": [
    "data.head()"
   ]
  },
  {
   "cell_type": "code",
   "execution_count": 3,
   "metadata": {},
   "outputs": [
    {
     "data": {
      "text/plain": [
       "Index(['Admit Source', 'Admit Type', 'Appt Start Time', 'Care Score',\n",
       "       'Check-In Time', 'Clinic Name', 'Department', 'Diagnosis Primary',\n",
       "       'Discharge Datetime new', 'Encounter Number', 'Encounter Status',\n",
       "       'Number of Records', 'Wait Time Min'],\n",
       "      dtype='object')"
      ]
     },
     "execution_count": 3,
     "metadata": {},
     "output_type": "execute_result"
    }
   ],
   "source": [
    "data.columns"
   ]
  },
  {
   "cell_type": "code",
   "execution_count": 8,
   "metadata": {},
   "outputs": [],
   "source": [
    "# Preparación de los datos\n",
    "import pandas as pd\n",
    "df=data\n",
    "df['Appt Start Time'] = pd.to_datetime(df['Appt Start Time'])\n",
    "df['Day of Week'] = df['Appt Start Time'].dt.day_name()\n",
    "df['Hour of Day'] = df['Appt Start Time'].dt.hour\n",
    "\n",
    "heatmap_data = df.groupby(['Day of Week', 'Hour of Day']).agg(\n",
    "    Patient_Count=pd.NamedAgg(column='Number of Records', aggfunc='sum'),\n",
    "    Avg_Care_Score=pd.NamedAgg(column='Care Score', aggfunc='mean')\n",
    ").reset_index()\n",
    "\n",
    "heatmap_count = heatmap_data.pivot(index=\"Day of Week\", columns=\"Hour of Day\", values=\"Patient_Count\")\n",
    "heatmap_score = heatmap_data.pivot(index=\"Day of Week\", columns=\"Hour of Day\", values=\"Avg_Care_Score\")\n",
    "\n",
    "\n",
    "# Crear los textos para los tooltips\n",
    "tooltip_texts = [\n",
    "    [\n",
    "        f\"<br>Calificación Promedio: {heatmap_score.iloc[i, j]:.2f}\"\n",
    "        if not pd.isna(heatmap_score.iloc[i, j]) else \"No data\"\n",
    "        for j in range(len(heatmap_count.columns))\n",
    "    ]\n",
    "    for i in range(len(heatmap_count.index))\n",
    "]\n"
   ]
  },
  {
   "cell_type": "code",
   "execution_count": 10,
   "metadata": {},
   "outputs": [
    {
     "data": {
      "application/vnd.plotly.v1+json": {
       "config": {
        "plotlyServerURL": "https://plot.ly"
       },
       "data": [
        {
         "colorscale": [
          [
           0,
           "#440154"
          ],
          [
           0.1111111111111111,
           "#482878"
          ],
          [
           0.2222222222222222,
           "#3e4989"
          ],
          [
           0.3333333333333333,
           "#31688e"
          ],
          [
           0.4444444444444444,
           "#26828e"
          ],
          [
           0.5555555555555556,
           "#1f9e89"
          ],
          [
           0.6666666666666666,
           "#35b779"
          ],
          [
           0.7777777777777778,
           "#6ece58"
          ],
          [
           0.8888888888888888,
           "#b5de2b"
          ],
          [
           1,
           "#fde725"
          ]
         ],
         "hoverinfo": "text",
         "hoverongaps": false,
         "text": [
          [
           "<br>Calificación Promedio: 2.97",
           "<br>Calificación Promedio: 2.94",
           "<br>Calificación Promedio: 2.80",
           "<br>Calificación Promedio: 2.91",
           "<br>Calificación Promedio: 2.95",
           "<br>Calificación Promedio: 3.08",
           "<br>Calificación Promedio: 3.06",
           "<br>Calificación Promedio: 3.16",
           "<br>Calificación Promedio: 3.13",
           "<br>Calificación Promedio: 2.90",
           "<br>Calificación Promedio: 3.08",
           "<br>Calificación Promedio: 3.12",
           "<br>Calificación Promedio: 2.94",
           "<br>Calificación Promedio: 2.87",
           "<br>Calificación Promedio: 2.94",
           "<br>Calificación Promedio: 2.96",
           "<br>Calificación Promedio: 2.98",
           "<br>Calificación Promedio: 2.95",
           "<br>Calificación Promedio: 3.02",
           "<br>Calificación Promedio: 3.06",
           "<br>Calificación Promedio: 2.95",
           "<br>Calificación Promedio: 2.93",
           "<br>Calificación Promedio: 2.94",
           "<br>Calificación Promedio: 2.85"
          ],
          [
           "<br>Calificación Promedio: 2.95",
           "<br>Calificación Promedio: 2.96",
           "<br>Calificación Promedio: 3.13",
           "<br>Calificación Promedio: 2.99",
           "<br>Calificación Promedio: 2.94",
           "<br>Calificación Promedio: 3.01",
           "<br>Calificación Promedio: 3.40",
           "<br>Calificación Promedio: 3.20",
           "<br>Calificación Promedio: 2.85",
           "<br>Calificación Promedio: 2.96",
           "<br>Calificación Promedio: 2.98",
           "<br>Calificación Promedio: 3.03",
           "<br>Calificación Promedio: 2.97",
           "<br>Calificación Promedio: 2.98",
           "<br>Calificación Promedio: 2.93",
           "<br>Calificación Promedio: 3.00",
           "<br>Calificación Promedio: 3.06",
           "<br>Calificación Promedio: 2.93",
           "<br>Calificación Promedio: 3.03",
           "<br>Calificación Promedio: 2.99",
           "<br>Calificación Promedio: 2.92",
           "<br>Calificación Promedio: 2.92",
           "<br>Calificación Promedio: 2.92",
           "<br>Calificación Promedio: 2.92"
          ],
          [
           "<br>Calificación Promedio: 2.98",
           "<br>Calificación Promedio: 2.92",
           "<br>Calificación Promedio: 2.85",
           "<br>Calificación Promedio: 2.92",
           "<br>Calificación Promedio: 2.96",
           "<br>Calificación Promedio: 3.04",
           "<br>Calificación Promedio: 3.00",
           "<br>Calificación Promedio: 3.01",
           "<br>Calificación Promedio: 3.31",
           "<br>Calificación Promedio: 3.27",
           "<br>Calificación Promedio: 3.16",
           "<br>Calificación Promedio: 3.08",
           "<br>Calificación Promedio: 2.99",
           "<br>Calificación Promedio: 2.99",
           "<br>Calificación Promedio: 3.01",
           "<br>Calificación Promedio: 3.06",
           "<br>Calificación Promedio: 3.00",
           "<br>Calificación Promedio: 3.03",
           "<br>Calificación Promedio: 2.92",
           "<br>Calificación Promedio: 3.05",
           "<br>Calificación Promedio: 2.97",
           "<br>Calificación Promedio: 3.05",
           "<br>Calificación Promedio: 2.98",
           "<br>Calificación Promedio: 2.90"
          ],
          [
           "<br>Calificación Promedio: 2.98",
           "<br>Calificación Promedio: 2.98",
           "<br>Calificación Promedio: 2.90",
           "<br>Calificación Promedio: 2.93",
           "<br>Calificación Promedio: 3.07",
           "<br>Calificación Promedio: 2.97",
           "<br>Calificación Promedio: 3.38",
           "<br>Calificación Promedio: 3.28",
           "<br>Calificación Promedio: 2.91",
           "<br>Calificación Promedio: 3.00",
           "<br>Calificación Promedio: 3.00",
           "<br>Calificación Promedio: 3.03",
           "<br>Calificación Promedio: 3.02",
           "<br>Calificación Promedio: 2.99",
           "<br>Calificación Promedio: 2.97",
           "<br>Calificación Promedio: 2.91",
           "<br>Calificación Promedio: 3.03",
           "<br>Calificación Promedio: 2.93",
           "<br>Calificación Promedio: 3.05",
           "<br>Calificación Promedio: 3.06",
           "<br>Calificación Promedio: 2.90",
           "<br>Calificación Promedio: 2.87",
           "<br>Calificación Promedio: 3.01",
           "<br>Calificación Promedio: 3.01"
          ],
          [
           "<br>Calificación Promedio: 2.81",
           "<br>Calificación Promedio: 2.91",
           "<br>Calificación Promedio: 2.91",
           "<br>Calificación Promedio: 3.01",
           "<br>Calificación Promedio: 2.98",
           "<br>Calificación Promedio: 3.04",
           "<br>Calificación Promedio: 3.30",
           "<br>Calificación Promedio: 3.15",
           "<br>Calificación Promedio: 2.92",
           "<br>Calificación Promedio: 3.00",
           "<br>Calificación Promedio: 3.04",
           "<br>Calificación Promedio: 2.96",
           "<br>Calificación Promedio: 2.99",
           "<br>Calificación Promedio: 2.96",
           "<br>Calificación Promedio: 2.92",
           "<br>Calificación Promedio: 3.03",
           "<br>Calificación Promedio: 3.06",
           "<br>Calificación Promedio: 2.97",
           "<br>Calificación Promedio: 3.09",
           "<br>Calificación Promedio: 3.00",
           "<br>Calificación Promedio: 2.98",
           "<br>Calificación Promedio: 2.97",
           "<br>Calificación Promedio: 2.92",
           "<br>Calificación Promedio: 2.96"
          ],
          [
           "<br>Calificación Promedio: 2.94",
           "<br>Calificación Promedio: 2.96",
           "<br>Calificación Promedio: 2.93",
           "<br>Calificación Promedio: 2.79",
           "<br>Calificación Promedio: 3.02",
           "<br>Calificación Promedio: 3.01",
           "<br>Calificación Promedio: 3.15",
           "<br>Calificación Promedio: 3.24",
           "<br>Calificación Promedio: 3.16",
           "<br>Calificación Promedio: 2.89",
           "<br>Calificación Promedio: 3.00",
           "<br>Calificación Promedio: 2.97",
           "<br>Calificación Promedio: 2.98",
           "<br>Calificación Promedio: 2.90",
           "<br>Calificación Promedio: 2.99",
           "<br>Calificación Promedio: 2.87",
           "<br>Calificación Promedio: 3.00",
           "<br>Calificación Promedio: 3.06",
           "<br>Calificación Promedio: 2.99",
           "<br>Calificación Promedio: 3.06",
           "<br>Calificación Promedio: 2.93",
           "<br>Calificación Promedio: 3.01",
           "<br>Calificación Promedio: 2.88",
           "<br>Calificación Promedio: 2.82"
          ],
          [
           "<br>Calificación Promedio: 2.81",
           "<br>Calificación Promedio: 2.91",
           "<br>Calificación Promedio: 2.76",
           "<br>Calificación Promedio: 2.97",
           "<br>Calificación Promedio: 2.88",
           "<br>Calificación Promedio: 2.94",
           "<br>Calificación Promedio: 3.32",
           "<br>Calificación Promedio: 3.20",
           "<br>Calificación Promedio: 2.96",
           "<br>Calificación Promedio: 3.00",
           "<br>Calificación Promedio: 3.03",
           "<br>Calificación Promedio: 3.02",
           "<br>Calificación Promedio: 3.03",
           "<br>Calificación Promedio: 2.99",
           "<br>Calificación Promedio: 3.00",
           "<br>Calificación Promedio: 2.94",
           "<br>Calificación Promedio: 2.96",
           "<br>Calificación Promedio: 2.98",
           "<br>Calificación Promedio: 2.95",
           "<br>Calificación Promedio: 3.05",
           "<br>Calificación Promedio: 2.98",
           "<br>Calificación Promedio: 2.98",
           "<br>Calificación Promedio: 2.98",
           "<br>Calificación Promedio: 2.89"
          ]
         ],
         "type": "heatmap",
         "x": [
          0,
          1,
          2,
          3,
          4,
          5,
          6,
          7,
          8,
          9,
          10,
          11,
          12,
          13,
          14,
          15,
          16,
          17,
          18,
          19,
          20,
          21,
          22,
          23
         ],
         "y": [
          "Monday",
          "Tuesday",
          "Wednesday",
          "Thursday",
          "Friday",
          "Saturday",
          "Sunday"
         ],
         "z": [
          [
           324,
           242,
           188,
           139,
           109,
           102,
           443,
           891,
           1048,
           890,
           922,
           838,
           926,
           797,
           684,
           566,
           489,
           532,
           584,
           560,
           592,
           539,
           484,
           455
          ],
          [
           328,
           222,
           181,
           134,
           119,
           100,
           144,
           495,
           975,
           1110,
           1021,
           978,
           956,
           840,
           772,
           576,
           533,
           455,
           473,
           580,
           617,
           534,
           455,
           369
          ],
          [
           344,
           262,
           183,
           135,
           113,
           98,
           368,
           769,
           982,
           792,
           760,
           769,
           830,
           772,
           683,
           516,
           485,
           503,
           529,
           563,
           583,
           585,
           460,
           419
          ],
          [
           281,
           218,
           191,
           140,
           120,
           123,
           387,
           815,
           988,
           844,
           831,
           835,
           818,
           797,
           699,
           541,
           486,
           517,
           572,
           590,
           580,
           535,
           455,
           449
          ],
          [
           373,
           314,
           211,
           152,
           150,
           101,
           79,
           142,
           228,
           290,
           320,
           419,
           422,
           457,
           429,
           427,
           456,
           431,
           446,
           471,
           488,
           472,
           436,
           450
          ],
          [
           331,
           304,
           227,
           172,
           129,
           138,
           119,
           136,
           162,
           227,
           302,
           398,
           473,
           533,
           533,
           555,
           457,
           446,
           488,
           499,
           455,
           495,
           476,
           428
          ],
          [
           359,
           256,
           186,
           121,
           109,
           102,
           220,
           686,
           963,
           864,
           829,
           894,
           959,
           926,
           802,
           621,
           620,
           561,
           622,
           634,
           660,
           576,
           441,
           383
          ]
         ]
        }
       ],
       "layout": {
        "annotations": [
         {
          "font": {
           "color": "white"
          },
          "showarrow": false,
          "text": "324",
          "x": 0,
          "y": "Monday"
         },
         {
          "font": {
           "color": "white"
          },
          "showarrow": false,
          "text": "242",
          "x": 1,
          "y": "Monday"
         },
         {
          "font": {
           "color": "white"
          },
          "showarrow": false,
          "text": "188",
          "x": 2,
          "y": "Monday"
         },
         {
          "font": {
           "color": "white"
          },
          "showarrow": false,
          "text": "139",
          "x": 3,
          "y": "Monday"
         },
         {
          "font": {
           "color": "white"
          },
          "showarrow": false,
          "text": "109",
          "x": 4,
          "y": "Monday"
         },
         {
          "font": {
           "color": "white"
          },
          "showarrow": false,
          "text": "102",
          "x": 5,
          "y": "Monday"
         },
         {
          "font": {
           "color": "white"
          },
          "showarrow": false,
          "text": "443",
          "x": 6,
          "y": "Monday"
         },
         {
          "font": {
           "color": "white"
          },
          "showarrow": false,
          "text": "891",
          "x": 7,
          "y": "Monday"
         },
         {
          "font": {
           "color": "white"
          },
          "showarrow": false,
          "text": "1048",
          "x": 8,
          "y": "Monday"
         },
         {
          "font": {
           "color": "white"
          },
          "showarrow": false,
          "text": "890",
          "x": 9,
          "y": "Monday"
         },
         {
          "font": {
           "color": "white"
          },
          "showarrow": false,
          "text": "922",
          "x": 10,
          "y": "Monday"
         },
         {
          "font": {
           "color": "white"
          },
          "showarrow": false,
          "text": "838",
          "x": 11,
          "y": "Monday"
         },
         {
          "font": {
           "color": "white"
          },
          "showarrow": false,
          "text": "926",
          "x": 12,
          "y": "Monday"
         },
         {
          "font": {
           "color": "white"
          },
          "showarrow": false,
          "text": "797",
          "x": 13,
          "y": "Monday"
         },
         {
          "font": {
           "color": "white"
          },
          "showarrow": false,
          "text": "684",
          "x": 14,
          "y": "Monday"
         },
         {
          "font": {
           "color": "white"
          },
          "showarrow": false,
          "text": "566",
          "x": 15,
          "y": "Monday"
         },
         {
          "font": {
           "color": "white"
          },
          "showarrow": false,
          "text": "489",
          "x": 16,
          "y": "Monday"
         },
         {
          "font": {
           "color": "white"
          },
          "showarrow": false,
          "text": "532",
          "x": 17,
          "y": "Monday"
         },
         {
          "font": {
           "color": "white"
          },
          "showarrow": false,
          "text": "584",
          "x": 18,
          "y": "Monday"
         },
         {
          "font": {
           "color": "white"
          },
          "showarrow": false,
          "text": "560",
          "x": 19,
          "y": "Monday"
         },
         {
          "font": {
           "color": "white"
          },
          "showarrow": false,
          "text": "592",
          "x": 20,
          "y": "Monday"
         },
         {
          "font": {
           "color": "white"
          },
          "showarrow": false,
          "text": "539",
          "x": 21,
          "y": "Monday"
         },
         {
          "font": {
           "color": "white"
          },
          "showarrow": false,
          "text": "484",
          "x": 22,
          "y": "Monday"
         },
         {
          "font": {
           "color": "white"
          },
          "showarrow": false,
          "text": "455",
          "x": 23,
          "y": "Monday"
         },
         {
          "font": {
           "color": "white"
          },
          "showarrow": false,
          "text": "328",
          "x": 0,
          "y": "Tuesday"
         },
         {
          "font": {
           "color": "white"
          },
          "showarrow": false,
          "text": "222",
          "x": 1,
          "y": "Tuesday"
         },
         {
          "font": {
           "color": "white"
          },
          "showarrow": false,
          "text": "181",
          "x": 2,
          "y": "Tuesday"
         },
         {
          "font": {
           "color": "white"
          },
          "showarrow": false,
          "text": "134",
          "x": 3,
          "y": "Tuesday"
         },
         {
          "font": {
           "color": "white"
          },
          "showarrow": false,
          "text": "119",
          "x": 4,
          "y": "Tuesday"
         },
         {
          "font": {
           "color": "white"
          },
          "showarrow": false,
          "text": "100",
          "x": 5,
          "y": "Tuesday"
         },
         {
          "font": {
           "color": "white"
          },
          "showarrow": false,
          "text": "144",
          "x": 6,
          "y": "Tuesday"
         },
         {
          "font": {
           "color": "white"
          },
          "showarrow": false,
          "text": "495",
          "x": 7,
          "y": "Tuesday"
         },
         {
          "font": {
           "color": "white"
          },
          "showarrow": false,
          "text": "975",
          "x": 8,
          "y": "Tuesday"
         },
         {
          "font": {
           "color": "white"
          },
          "showarrow": false,
          "text": "1110",
          "x": 9,
          "y": "Tuesday"
         },
         {
          "font": {
           "color": "white"
          },
          "showarrow": false,
          "text": "1021",
          "x": 10,
          "y": "Tuesday"
         },
         {
          "font": {
           "color": "white"
          },
          "showarrow": false,
          "text": "978",
          "x": 11,
          "y": "Tuesday"
         },
         {
          "font": {
           "color": "white"
          },
          "showarrow": false,
          "text": "956",
          "x": 12,
          "y": "Tuesday"
         },
         {
          "font": {
           "color": "white"
          },
          "showarrow": false,
          "text": "840",
          "x": 13,
          "y": "Tuesday"
         },
         {
          "font": {
           "color": "white"
          },
          "showarrow": false,
          "text": "772",
          "x": 14,
          "y": "Tuesday"
         },
         {
          "font": {
           "color": "white"
          },
          "showarrow": false,
          "text": "576",
          "x": 15,
          "y": "Tuesday"
         },
         {
          "font": {
           "color": "white"
          },
          "showarrow": false,
          "text": "533",
          "x": 16,
          "y": "Tuesday"
         },
         {
          "font": {
           "color": "white"
          },
          "showarrow": false,
          "text": "455",
          "x": 17,
          "y": "Tuesday"
         },
         {
          "font": {
           "color": "white"
          },
          "showarrow": false,
          "text": "473",
          "x": 18,
          "y": "Tuesday"
         },
         {
          "font": {
           "color": "white"
          },
          "showarrow": false,
          "text": "580",
          "x": 19,
          "y": "Tuesday"
         },
         {
          "font": {
           "color": "white"
          },
          "showarrow": false,
          "text": "617",
          "x": 20,
          "y": "Tuesday"
         },
         {
          "font": {
           "color": "white"
          },
          "showarrow": false,
          "text": "534",
          "x": 21,
          "y": "Tuesday"
         },
         {
          "font": {
           "color": "white"
          },
          "showarrow": false,
          "text": "455",
          "x": 22,
          "y": "Tuesday"
         },
         {
          "font": {
           "color": "white"
          },
          "showarrow": false,
          "text": "369",
          "x": 23,
          "y": "Tuesday"
         },
         {
          "font": {
           "color": "white"
          },
          "showarrow": false,
          "text": "344",
          "x": 0,
          "y": "Wednesday"
         },
         {
          "font": {
           "color": "white"
          },
          "showarrow": false,
          "text": "262",
          "x": 1,
          "y": "Wednesday"
         },
         {
          "font": {
           "color": "white"
          },
          "showarrow": false,
          "text": "183",
          "x": 2,
          "y": "Wednesday"
         },
         {
          "font": {
           "color": "white"
          },
          "showarrow": false,
          "text": "135",
          "x": 3,
          "y": "Wednesday"
         },
         {
          "font": {
           "color": "white"
          },
          "showarrow": false,
          "text": "113",
          "x": 4,
          "y": "Wednesday"
         },
         {
          "font": {
           "color": "white"
          },
          "showarrow": false,
          "text": "98",
          "x": 5,
          "y": "Wednesday"
         },
         {
          "font": {
           "color": "white"
          },
          "showarrow": false,
          "text": "368",
          "x": 6,
          "y": "Wednesday"
         },
         {
          "font": {
           "color": "white"
          },
          "showarrow": false,
          "text": "769",
          "x": 7,
          "y": "Wednesday"
         },
         {
          "font": {
           "color": "white"
          },
          "showarrow": false,
          "text": "982",
          "x": 8,
          "y": "Wednesday"
         },
         {
          "font": {
           "color": "white"
          },
          "showarrow": false,
          "text": "792",
          "x": 9,
          "y": "Wednesday"
         },
         {
          "font": {
           "color": "white"
          },
          "showarrow": false,
          "text": "760",
          "x": 10,
          "y": "Wednesday"
         },
         {
          "font": {
           "color": "white"
          },
          "showarrow": false,
          "text": "769",
          "x": 11,
          "y": "Wednesday"
         },
         {
          "font": {
           "color": "white"
          },
          "showarrow": false,
          "text": "830",
          "x": 12,
          "y": "Wednesday"
         },
         {
          "font": {
           "color": "white"
          },
          "showarrow": false,
          "text": "772",
          "x": 13,
          "y": "Wednesday"
         },
         {
          "font": {
           "color": "white"
          },
          "showarrow": false,
          "text": "683",
          "x": 14,
          "y": "Wednesday"
         },
         {
          "font": {
           "color": "white"
          },
          "showarrow": false,
          "text": "516",
          "x": 15,
          "y": "Wednesday"
         },
         {
          "font": {
           "color": "white"
          },
          "showarrow": false,
          "text": "485",
          "x": 16,
          "y": "Wednesday"
         },
         {
          "font": {
           "color": "white"
          },
          "showarrow": false,
          "text": "503",
          "x": 17,
          "y": "Wednesday"
         },
         {
          "font": {
           "color": "white"
          },
          "showarrow": false,
          "text": "529",
          "x": 18,
          "y": "Wednesday"
         },
         {
          "font": {
           "color": "white"
          },
          "showarrow": false,
          "text": "563",
          "x": 19,
          "y": "Wednesday"
         },
         {
          "font": {
           "color": "white"
          },
          "showarrow": false,
          "text": "583",
          "x": 20,
          "y": "Wednesday"
         },
         {
          "font": {
           "color": "white"
          },
          "showarrow": false,
          "text": "585",
          "x": 21,
          "y": "Wednesday"
         },
         {
          "font": {
           "color": "white"
          },
          "showarrow": false,
          "text": "460",
          "x": 22,
          "y": "Wednesday"
         },
         {
          "font": {
           "color": "white"
          },
          "showarrow": false,
          "text": "419",
          "x": 23,
          "y": "Wednesday"
         },
         {
          "font": {
           "color": "white"
          },
          "showarrow": false,
          "text": "281",
          "x": 0,
          "y": "Thursday"
         },
         {
          "font": {
           "color": "white"
          },
          "showarrow": false,
          "text": "218",
          "x": 1,
          "y": "Thursday"
         },
         {
          "font": {
           "color": "white"
          },
          "showarrow": false,
          "text": "191",
          "x": 2,
          "y": "Thursday"
         },
         {
          "font": {
           "color": "white"
          },
          "showarrow": false,
          "text": "140",
          "x": 3,
          "y": "Thursday"
         },
         {
          "font": {
           "color": "white"
          },
          "showarrow": false,
          "text": "120",
          "x": 4,
          "y": "Thursday"
         },
         {
          "font": {
           "color": "white"
          },
          "showarrow": false,
          "text": "123",
          "x": 5,
          "y": "Thursday"
         },
         {
          "font": {
           "color": "white"
          },
          "showarrow": false,
          "text": "387",
          "x": 6,
          "y": "Thursday"
         },
         {
          "font": {
           "color": "white"
          },
          "showarrow": false,
          "text": "815",
          "x": 7,
          "y": "Thursday"
         },
         {
          "font": {
           "color": "white"
          },
          "showarrow": false,
          "text": "988",
          "x": 8,
          "y": "Thursday"
         },
         {
          "font": {
           "color": "white"
          },
          "showarrow": false,
          "text": "844",
          "x": 9,
          "y": "Thursday"
         },
         {
          "font": {
           "color": "white"
          },
          "showarrow": false,
          "text": "831",
          "x": 10,
          "y": "Thursday"
         },
         {
          "font": {
           "color": "white"
          },
          "showarrow": false,
          "text": "835",
          "x": 11,
          "y": "Thursday"
         },
         {
          "font": {
           "color": "white"
          },
          "showarrow": false,
          "text": "818",
          "x": 12,
          "y": "Thursday"
         },
         {
          "font": {
           "color": "white"
          },
          "showarrow": false,
          "text": "797",
          "x": 13,
          "y": "Thursday"
         },
         {
          "font": {
           "color": "white"
          },
          "showarrow": false,
          "text": "699",
          "x": 14,
          "y": "Thursday"
         },
         {
          "font": {
           "color": "white"
          },
          "showarrow": false,
          "text": "541",
          "x": 15,
          "y": "Thursday"
         },
         {
          "font": {
           "color": "white"
          },
          "showarrow": false,
          "text": "486",
          "x": 16,
          "y": "Thursday"
         },
         {
          "font": {
           "color": "white"
          },
          "showarrow": false,
          "text": "517",
          "x": 17,
          "y": "Thursday"
         },
         {
          "font": {
           "color": "white"
          },
          "showarrow": false,
          "text": "572",
          "x": 18,
          "y": "Thursday"
         },
         {
          "font": {
           "color": "white"
          },
          "showarrow": false,
          "text": "590",
          "x": 19,
          "y": "Thursday"
         },
         {
          "font": {
           "color": "white"
          },
          "showarrow": false,
          "text": "580",
          "x": 20,
          "y": "Thursday"
         },
         {
          "font": {
           "color": "white"
          },
          "showarrow": false,
          "text": "535",
          "x": 21,
          "y": "Thursday"
         },
         {
          "font": {
           "color": "white"
          },
          "showarrow": false,
          "text": "455",
          "x": 22,
          "y": "Thursday"
         },
         {
          "font": {
           "color": "white"
          },
          "showarrow": false,
          "text": "449",
          "x": 23,
          "y": "Thursday"
         },
         {
          "font": {
           "color": "white"
          },
          "showarrow": false,
          "text": "373",
          "x": 0,
          "y": "Friday"
         },
         {
          "font": {
           "color": "white"
          },
          "showarrow": false,
          "text": "314",
          "x": 1,
          "y": "Friday"
         },
         {
          "font": {
           "color": "white"
          },
          "showarrow": false,
          "text": "211",
          "x": 2,
          "y": "Friday"
         },
         {
          "font": {
           "color": "white"
          },
          "showarrow": false,
          "text": "152",
          "x": 3,
          "y": "Friday"
         },
         {
          "font": {
           "color": "white"
          },
          "showarrow": false,
          "text": "150",
          "x": 4,
          "y": "Friday"
         },
         {
          "font": {
           "color": "white"
          },
          "showarrow": false,
          "text": "101",
          "x": 5,
          "y": "Friday"
         },
         {
          "font": {
           "color": "white"
          },
          "showarrow": false,
          "text": "79",
          "x": 6,
          "y": "Friday"
         },
         {
          "font": {
           "color": "white"
          },
          "showarrow": false,
          "text": "142",
          "x": 7,
          "y": "Friday"
         },
         {
          "font": {
           "color": "white"
          },
          "showarrow": false,
          "text": "228",
          "x": 8,
          "y": "Friday"
         },
         {
          "font": {
           "color": "white"
          },
          "showarrow": false,
          "text": "290",
          "x": 9,
          "y": "Friday"
         },
         {
          "font": {
           "color": "white"
          },
          "showarrow": false,
          "text": "320",
          "x": 10,
          "y": "Friday"
         },
         {
          "font": {
           "color": "white"
          },
          "showarrow": false,
          "text": "419",
          "x": 11,
          "y": "Friday"
         },
         {
          "font": {
           "color": "white"
          },
          "showarrow": false,
          "text": "422",
          "x": 12,
          "y": "Friday"
         },
         {
          "font": {
           "color": "white"
          },
          "showarrow": false,
          "text": "457",
          "x": 13,
          "y": "Friday"
         },
         {
          "font": {
           "color": "white"
          },
          "showarrow": false,
          "text": "429",
          "x": 14,
          "y": "Friday"
         },
         {
          "font": {
           "color": "white"
          },
          "showarrow": false,
          "text": "427",
          "x": 15,
          "y": "Friday"
         },
         {
          "font": {
           "color": "white"
          },
          "showarrow": false,
          "text": "456",
          "x": 16,
          "y": "Friday"
         },
         {
          "font": {
           "color": "white"
          },
          "showarrow": false,
          "text": "431",
          "x": 17,
          "y": "Friday"
         },
         {
          "font": {
           "color": "white"
          },
          "showarrow": false,
          "text": "446",
          "x": 18,
          "y": "Friday"
         },
         {
          "font": {
           "color": "white"
          },
          "showarrow": false,
          "text": "471",
          "x": 19,
          "y": "Friday"
         },
         {
          "font": {
           "color": "white"
          },
          "showarrow": false,
          "text": "488",
          "x": 20,
          "y": "Friday"
         },
         {
          "font": {
           "color": "white"
          },
          "showarrow": false,
          "text": "472",
          "x": 21,
          "y": "Friday"
         },
         {
          "font": {
           "color": "white"
          },
          "showarrow": false,
          "text": "436",
          "x": 22,
          "y": "Friday"
         },
         {
          "font": {
           "color": "white"
          },
          "showarrow": false,
          "text": "450",
          "x": 23,
          "y": "Friday"
         },
         {
          "font": {
           "color": "white"
          },
          "showarrow": false,
          "text": "331",
          "x": 0,
          "y": "Saturday"
         },
         {
          "font": {
           "color": "white"
          },
          "showarrow": false,
          "text": "304",
          "x": 1,
          "y": "Saturday"
         },
         {
          "font": {
           "color": "white"
          },
          "showarrow": false,
          "text": "227",
          "x": 2,
          "y": "Saturday"
         },
         {
          "font": {
           "color": "white"
          },
          "showarrow": false,
          "text": "172",
          "x": 3,
          "y": "Saturday"
         },
         {
          "font": {
           "color": "white"
          },
          "showarrow": false,
          "text": "129",
          "x": 4,
          "y": "Saturday"
         },
         {
          "font": {
           "color": "white"
          },
          "showarrow": false,
          "text": "138",
          "x": 5,
          "y": "Saturday"
         },
         {
          "font": {
           "color": "white"
          },
          "showarrow": false,
          "text": "119",
          "x": 6,
          "y": "Saturday"
         },
         {
          "font": {
           "color": "white"
          },
          "showarrow": false,
          "text": "136",
          "x": 7,
          "y": "Saturday"
         },
         {
          "font": {
           "color": "white"
          },
          "showarrow": false,
          "text": "162",
          "x": 8,
          "y": "Saturday"
         },
         {
          "font": {
           "color": "white"
          },
          "showarrow": false,
          "text": "227",
          "x": 9,
          "y": "Saturday"
         },
         {
          "font": {
           "color": "white"
          },
          "showarrow": false,
          "text": "302",
          "x": 10,
          "y": "Saturday"
         },
         {
          "font": {
           "color": "white"
          },
          "showarrow": false,
          "text": "398",
          "x": 11,
          "y": "Saturday"
         },
         {
          "font": {
           "color": "white"
          },
          "showarrow": false,
          "text": "473",
          "x": 12,
          "y": "Saturday"
         },
         {
          "font": {
           "color": "white"
          },
          "showarrow": false,
          "text": "533",
          "x": 13,
          "y": "Saturday"
         },
         {
          "font": {
           "color": "white"
          },
          "showarrow": false,
          "text": "533",
          "x": 14,
          "y": "Saturday"
         },
         {
          "font": {
           "color": "white"
          },
          "showarrow": false,
          "text": "555",
          "x": 15,
          "y": "Saturday"
         },
         {
          "font": {
           "color": "white"
          },
          "showarrow": false,
          "text": "457",
          "x": 16,
          "y": "Saturday"
         },
         {
          "font": {
           "color": "white"
          },
          "showarrow": false,
          "text": "446",
          "x": 17,
          "y": "Saturday"
         },
         {
          "font": {
           "color": "white"
          },
          "showarrow": false,
          "text": "488",
          "x": 18,
          "y": "Saturday"
         },
         {
          "font": {
           "color": "white"
          },
          "showarrow": false,
          "text": "499",
          "x": 19,
          "y": "Saturday"
         },
         {
          "font": {
           "color": "white"
          },
          "showarrow": false,
          "text": "455",
          "x": 20,
          "y": "Saturday"
         },
         {
          "font": {
           "color": "white"
          },
          "showarrow": false,
          "text": "495",
          "x": 21,
          "y": "Saturday"
         },
         {
          "font": {
           "color": "white"
          },
          "showarrow": false,
          "text": "476",
          "x": 22,
          "y": "Saturday"
         },
         {
          "font": {
           "color": "white"
          },
          "showarrow": false,
          "text": "428",
          "x": 23,
          "y": "Saturday"
         },
         {
          "font": {
           "color": "white"
          },
          "showarrow": false,
          "text": "359",
          "x": 0,
          "y": "Sunday"
         },
         {
          "font": {
           "color": "white"
          },
          "showarrow": false,
          "text": "256",
          "x": 1,
          "y": "Sunday"
         },
         {
          "font": {
           "color": "white"
          },
          "showarrow": false,
          "text": "186",
          "x": 2,
          "y": "Sunday"
         },
         {
          "font": {
           "color": "white"
          },
          "showarrow": false,
          "text": "121",
          "x": 3,
          "y": "Sunday"
         },
         {
          "font": {
           "color": "white"
          },
          "showarrow": false,
          "text": "109",
          "x": 4,
          "y": "Sunday"
         },
         {
          "font": {
           "color": "white"
          },
          "showarrow": false,
          "text": "102",
          "x": 5,
          "y": "Sunday"
         },
         {
          "font": {
           "color": "white"
          },
          "showarrow": false,
          "text": "220",
          "x": 6,
          "y": "Sunday"
         },
         {
          "font": {
           "color": "white"
          },
          "showarrow": false,
          "text": "686",
          "x": 7,
          "y": "Sunday"
         },
         {
          "font": {
           "color": "white"
          },
          "showarrow": false,
          "text": "963",
          "x": 8,
          "y": "Sunday"
         },
         {
          "font": {
           "color": "white"
          },
          "showarrow": false,
          "text": "864",
          "x": 9,
          "y": "Sunday"
         },
         {
          "font": {
           "color": "white"
          },
          "showarrow": false,
          "text": "829",
          "x": 10,
          "y": "Sunday"
         },
         {
          "font": {
           "color": "white"
          },
          "showarrow": false,
          "text": "894",
          "x": 11,
          "y": "Sunday"
         },
         {
          "font": {
           "color": "white"
          },
          "showarrow": false,
          "text": "959",
          "x": 12,
          "y": "Sunday"
         },
         {
          "font": {
           "color": "white"
          },
          "showarrow": false,
          "text": "926",
          "x": 13,
          "y": "Sunday"
         },
         {
          "font": {
           "color": "white"
          },
          "showarrow": false,
          "text": "802",
          "x": 14,
          "y": "Sunday"
         },
         {
          "font": {
           "color": "white"
          },
          "showarrow": false,
          "text": "621",
          "x": 15,
          "y": "Sunday"
         },
         {
          "font": {
           "color": "white"
          },
          "showarrow": false,
          "text": "620",
          "x": 16,
          "y": "Sunday"
         },
         {
          "font": {
           "color": "white"
          },
          "showarrow": false,
          "text": "561",
          "x": 17,
          "y": "Sunday"
         },
         {
          "font": {
           "color": "white"
          },
          "showarrow": false,
          "text": "622",
          "x": 18,
          "y": "Sunday"
         },
         {
          "font": {
           "color": "white"
          },
          "showarrow": false,
          "text": "634",
          "x": 19,
          "y": "Sunday"
         },
         {
          "font": {
           "color": "white"
          },
          "showarrow": false,
          "text": "660",
          "x": 20,
          "y": "Sunday"
         },
         {
          "font": {
           "color": "white"
          },
          "showarrow": false,
          "text": "576",
          "x": 21,
          "y": "Sunday"
         },
         {
          "font": {
           "color": "white"
          },
          "showarrow": false,
          "text": "441",
          "x": 22,
          "y": "Sunday"
         },
         {
          "font": {
           "color": "white"
          },
          "showarrow": false,
          "text": "383",
          "x": 23,
          "y": "Sunday"
         }
        ],
        "template": {
         "data": {
          "bar": [
           {
            "error_x": {
             "color": "#2a3f5f"
            },
            "error_y": {
             "color": "#2a3f5f"
            },
            "marker": {
             "line": {
              "color": "#E5ECF6",
              "width": 0.5
             },
             "pattern": {
              "fillmode": "overlay",
              "size": 10,
              "solidity": 0.2
             }
            },
            "type": "bar"
           }
          ],
          "barpolar": [
           {
            "marker": {
             "line": {
              "color": "#E5ECF6",
              "width": 0.5
             },
             "pattern": {
              "fillmode": "overlay",
              "size": 10,
              "solidity": 0.2
             }
            },
            "type": "barpolar"
           }
          ],
          "carpet": [
           {
            "aaxis": {
             "endlinecolor": "#2a3f5f",
             "gridcolor": "white",
             "linecolor": "white",
             "minorgridcolor": "white",
             "startlinecolor": "#2a3f5f"
            },
            "baxis": {
             "endlinecolor": "#2a3f5f",
             "gridcolor": "white",
             "linecolor": "white",
             "minorgridcolor": "white",
             "startlinecolor": "#2a3f5f"
            },
            "type": "carpet"
           }
          ],
          "choropleth": [
           {
            "colorbar": {
             "outlinewidth": 0,
             "ticks": ""
            },
            "type": "choropleth"
           }
          ],
          "contour": [
           {
            "colorbar": {
             "outlinewidth": 0,
             "ticks": ""
            },
            "colorscale": [
             [
              0,
              "#0d0887"
             ],
             [
              0.1111111111111111,
              "#46039f"
             ],
             [
              0.2222222222222222,
              "#7201a8"
             ],
             [
              0.3333333333333333,
              "#9c179e"
             ],
             [
              0.4444444444444444,
              "#bd3786"
             ],
             [
              0.5555555555555556,
              "#d8576b"
             ],
             [
              0.6666666666666666,
              "#ed7953"
             ],
             [
              0.7777777777777778,
              "#fb9f3a"
             ],
             [
              0.8888888888888888,
              "#fdca26"
             ],
             [
              1,
              "#f0f921"
             ]
            ],
            "type": "contour"
           }
          ],
          "contourcarpet": [
           {
            "colorbar": {
             "outlinewidth": 0,
             "ticks": ""
            },
            "type": "contourcarpet"
           }
          ],
          "heatmap": [
           {
            "colorbar": {
             "outlinewidth": 0,
             "ticks": ""
            },
            "colorscale": [
             [
              0,
              "#0d0887"
             ],
             [
              0.1111111111111111,
              "#46039f"
             ],
             [
              0.2222222222222222,
              "#7201a8"
             ],
             [
              0.3333333333333333,
              "#9c179e"
             ],
             [
              0.4444444444444444,
              "#bd3786"
             ],
             [
              0.5555555555555556,
              "#d8576b"
             ],
             [
              0.6666666666666666,
              "#ed7953"
             ],
             [
              0.7777777777777778,
              "#fb9f3a"
             ],
             [
              0.8888888888888888,
              "#fdca26"
             ],
             [
              1,
              "#f0f921"
             ]
            ],
            "type": "heatmap"
           }
          ],
          "heatmapgl": [
           {
            "colorbar": {
             "outlinewidth": 0,
             "ticks": ""
            },
            "colorscale": [
             [
              0,
              "#0d0887"
             ],
             [
              0.1111111111111111,
              "#46039f"
             ],
             [
              0.2222222222222222,
              "#7201a8"
             ],
             [
              0.3333333333333333,
              "#9c179e"
             ],
             [
              0.4444444444444444,
              "#bd3786"
             ],
             [
              0.5555555555555556,
              "#d8576b"
             ],
             [
              0.6666666666666666,
              "#ed7953"
             ],
             [
              0.7777777777777778,
              "#fb9f3a"
             ],
             [
              0.8888888888888888,
              "#fdca26"
             ],
             [
              1,
              "#f0f921"
             ]
            ],
            "type": "heatmapgl"
           }
          ],
          "histogram": [
           {
            "marker": {
             "pattern": {
              "fillmode": "overlay",
              "size": 10,
              "solidity": 0.2
             }
            },
            "type": "histogram"
           }
          ],
          "histogram2d": [
           {
            "colorbar": {
             "outlinewidth": 0,
             "ticks": ""
            },
            "colorscale": [
             [
              0,
              "#0d0887"
             ],
             [
              0.1111111111111111,
              "#46039f"
             ],
             [
              0.2222222222222222,
              "#7201a8"
             ],
             [
              0.3333333333333333,
              "#9c179e"
             ],
             [
              0.4444444444444444,
              "#bd3786"
             ],
             [
              0.5555555555555556,
              "#d8576b"
             ],
             [
              0.6666666666666666,
              "#ed7953"
             ],
             [
              0.7777777777777778,
              "#fb9f3a"
             ],
             [
              0.8888888888888888,
              "#fdca26"
             ],
             [
              1,
              "#f0f921"
             ]
            ],
            "type": "histogram2d"
           }
          ],
          "histogram2dcontour": [
           {
            "colorbar": {
             "outlinewidth": 0,
             "ticks": ""
            },
            "colorscale": [
             [
              0,
              "#0d0887"
             ],
             [
              0.1111111111111111,
              "#46039f"
             ],
             [
              0.2222222222222222,
              "#7201a8"
             ],
             [
              0.3333333333333333,
              "#9c179e"
             ],
             [
              0.4444444444444444,
              "#bd3786"
             ],
             [
              0.5555555555555556,
              "#d8576b"
             ],
             [
              0.6666666666666666,
              "#ed7953"
             ],
             [
              0.7777777777777778,
              "#fb9f3a"
             ],
             [
              0.8888888888888888,
              "#fdca26"
             ],
             [
              1,
              "#f0f921"
             ]
            ],
            "type": "histogram2dcontour"
           }
          ],
          "mesh3d": [
           {
            "colorbar": {
             "outlinewidth": 0,
             "ticks": ""
            },
            "type": "mesh3d"
           }
          ],
          "parcoords": [
           {
            "line": {
             "colorbar": {
              "outlinewidth": 0,
              "ticks": ""
             }
            },
            "type": "parcoords"
           }
          ],
          "pie": [
           {
            "automargin": true,
            "type": "pie"
           }
          ],
          "scatter": [
           {
            "fillpattern": {
             "fillmode": "overlay",
             "size": 10,
             "solidity": 0.2
            },
            "type": "scatter"
           }
          ],
          "scatter3d": [
           {
            "line": {
             "colorbar": {
              "outlinewidth": 0,
              "ticks": ""
             }
            },
            "marker": {
             "colorbar": {
              "outlinewidth": 0,
              "ticks": ""
             }
            },
            "type": "scatter3d"
           }
          ],
          "scattercarpet": [
           {
            "marker": {
             "colorbar": {
              "outlinewidth": 0,
              "ticks": ""
             }
            },
            "type": "scattercarpet"
           }
          ],
          "scattergeo": [
           {
            "marker": {
             "colorbar": {
              "outlinewidth": 0,
              "ticks": ""
             }
            },
            "type": "scattergeo"
           }
          ],
          "scattergl": [
           {
            "marker": {
             "colorbar": {
              "outlinewidth": 0,
              "ticks": ""
             }
            },
            "type": "scattergl"
           }
          ],
          "scattermapbox": [
           {
            "marker": {
             "colorbar": {
              "outlinewidth": 0,
              "ticks": ""
             }
            },
            "type": "scattermapbox"
           }
          ],
          "scatterpolar": [
           {
            "marker": {
             "colorbar": {
              "outlinewidth": 0,
              "ticks": ""
             }
            },
            "type": "scatterpolar"
           }
          ],
          "scatterpolargl": [
           {
            "marker": {
             "colorbar": {
              "outlinewidth": 0,
              "ticks": ""
             }
            },
            "type": "scatterpolargl"
           }
          ],
          "scatterternary": [
           {
            "marker": {
             "colorbar": {
              "outlinewidth": 0,
              "ticks": ""
             }
            },
            "type": "scatterternary"
           }
          ],
          "surface": [
           {
            "colorbar": {
             "outlinewidth": 0,
             "ticks": ""
            },
            "colorscale": [
             [
              0,
              "#0d0887"
             ],
             [
              0.1111111111111111,
              "#46039f"
             ],
             [
              0.2222222222222222,
              "#7201a8"
             ],
             [
              0.3333333333333333,
              "#9c179e"
             ],
             [
              0.4444444444444444,
              "#bd3786"
             ],
             [
              0.5555555555555556,
              "#d8576b"
             ],
             [
              0.6666666666666666,
              "#ed7953"
             ],
             [
              0.7777777777777778,
              "#fb9f3a"
             ],
             [
              0.8888888888888888,
              "#fdca26"
             ],
             [
              1,
              "#f0f921"
             ]
            ],
            "type": "surface"
           }
          ],
          "table": [
           {
            "cells": {
             "fill": {
              "color": "#EBF0F8"
             },
             "line": {
              "color": "white"
             }
            },
            "header": {
             "fill": {
              "color": "#C8D4E3"
             },
             "line": {
              "color": "white"
             }
            },
            "type": "table"
           }
          ]
         },
         "layout": {
          "annotationdefaults": {
           "arrowcolor": "#2a3f5f",
           "arrowhead": 0,
           "arrowwidth": 1
          },
          "autotypenumbers": "strict",
          "coloraxis": {
           "colorbar": {
            "outlinewidth": 0,
            "ticks": ""
           }
          },
          "colorscale": {
           "diverging": [
            [
             0,
             "#8e0152"
            ],
            [
             0.1,
             "#c51b7d"
            ],
            [
             0.2,
             "#de77ae"
            ],
            [
             0.3,
             "#f1b6da"
            ],
            [
             0.4,
             "#fde0ef"
            ],
            [
             0.5,
             "#f7f7f7"
            ],
            [
             0.6,
             "#e6f5d0"
            ],
            [
             0.7,
             "#b8e186"
            ],
            [
             0.8,
             "#7fbc41"
            ],
            [
             0.9,
             "#4d9221"
            ],
            [
             1,
             "#276419"
            ]
           ],
           "sequential": [
            [
             0,
             "#0d0887"
            ],
            [
             0.1111111111111111,
             "#46039f"
            ],
            [
             0.2222222222222222,
             "#7201a8"
            ],
            [
             0.3333333333333333,
             "#9c179e"
            ],
            [
             0.4444444444444444,
             "#bd3786"
            ],
            [
             0.5555555555555556,
             "#d8576b"
            ],
            [
             0.6666666666666666,
             "#ed7953"
            ],
            [
             0.7777777777777778,
             "#fb9f3a"
            ],
            [
             0.8888888888888888,
             "#fdca26"
            ],
            [
             1,
             "#f0f921"
            ]
           ],
           "sequentialminus": [
            [
             0,
             "#0d0887"
            ],
            [
             0.1111111111111111,
             "#46039f"
            ],
            [
             0.2222222222222222,
             "#7201a8"
            ],
            [
             0.3333333333333333,
             "#9c179e"
            ],
            [
             0.4444444444444444,
             "#bd3786"
            ],
            [
             0.5555555555555556,
             "#d8576b"
            ],
            [
             0.6666666666666666,
             "#ed7953"
            ],
            [
             0.7777777777777778,
             "#fb9f3a"
            ],
            [
             0.8888888888888888,
             "#fdca26"
            ],
            [
             1,
             "#f0f921"
            ]
           ]
          },
          "colorway": [
           "#636efa",
           "#EF553B",
           "#00cc96",
           "#ab63fa",
           "#FFA15A",
           "#19d3f3",
           "#FF6692",
           "#B6E880",
           "#FF97FF",
           "#FECB52"
          ],
          "font": {
           "color": "#2a3f5f"
          },
          "geo": {
           "bgcolor": "white",
           "lakecolor": "white",
           "landcolor": "#E5ECF6",
           "showlakes": true,
           "showland": true,
           "subunitcolor": "white"
          },
          "hoverlabel": {
           "align": "left"
          },
          "hovermode": "closest",
          "mapbox": {
           "style": "light"
          },
          "paper_bgcolor": "white",
          "plot_bgcolor": "#E5ECF6",
          "polar": {
           "angularaxis": {
            "gridcolor": "white",
            "linecolor": "white",
            "ticks": ""
           },
           "bgcolor": "#E5ECF6",
           "radialaxis": {
            "gridcolor": "white",
            "linecolor": "white",
            "ticks": ""
           }
          },
          "scene": {
           "xaxis": {
            "backgroundcolor": "#E5ECF6",
            "gridcolor": "white",
            "gridwidth": 2,
            "linecolor": "white",
            "showbackground": true,
            "ticks": "",
            "zerolinecolor": "white"
           },
           "yaxis": {
            "backgroundcolor": "#E5ECF6",
            "gridcolor": "white",
            "gridwidth": 2,
            "linecolor": "white",
            "showbackground": true,
            "ticks": "",
            "zerolinecolor": "white"
           },
           "zaxis": {
            "backgroundcolor": "#E5ECF6",
            "gridcolor": "white",
            "gridwidth": 2,
            "linecolor": "white",
            "showbackground": true,
            "ticks": "",
            "zerolinecolor": "white"
           }
          },
          "shapedefaults": {
           "line": {
            "color": "#2a3f5f"
           }
          },
          "ternary": {
           "aaxis": {
            "gridcolor": "white",
            "linecolor": "white",
            "ticks": ""
           },
           "baxis": {
            "gridcolor": "white",
            "linecolor": "white",
            "ticks": ""
           },
           "bgcolor": "#E5ECF6",
           "caxis": {
            "gridcolor": "white",
            "linecolor": "white",
            "ticks": ""
           }
          },
          "title": {
           "x": 0.05
          },
          "xaxis": {
           "automargin": true,
           "gridcolor": "white",
           "linecolor": "white",
           "ticks": "",
           "title": {
            "standoff": 15
           },
           "zerolinecolor": "white",
           "zerolinewidth": 2
          },
          "yaxis": {
           "automargin": true,
           "gridcolor": "white",
           "linecolor": "white",
           "ticks": "",
           "title": {
            "standoff": 15
           },
           "zerolinecolor": "white",
           "zerolinewidth": 2
          }
         }
        },
        "title": {
         "text": "Volumen de Pacientes por Día y Hora"
        },
        "xaxis": {
         "title": {
          "text": "Hora del Día"
         }
        },
        "yaxis": {
         "title": {
          "text": "Día de la Semana"
         }
        }
       }
      }
     },
     "metadata": {},
     "output_type": "display_data"
    }
   ],
   "source": [
    "# Orden explícito para los días de la semana\n",
    "days_order = ['Monday', 'Tuesday', 'Wednesday', 'Thursday', 'Friday', 'Saturday', 'Sunday']\n",
    "\n",
    "# Reordenar el DataFrame por días de la semana\n",
    "heatmap_count = heatmap_count.reindex(days_order)\n",
    "\n",
    "# Reordenar manualmente la lista tooltip_texts según days_order\n",
    "# Asumiendo que tooltip_texts es una lista de listas donde cada sublista corresponde a un día\n",
    "ordered_tooltip_texts = [None] * len(days_order)\n",
    "current_days = list(heatmap_count.index)\n",
    "\n",
    "for i, day in enumerate(days_order):\n",
    "    index = current_days.index(day)\n",
    "    ordered_tooltip_texts[i] = tooltip_texts[index]\n",
    "\n",
    "# Ahora crea el mapa de calor con el orden correcto\n",
    "import plotly.graph_objects as go\n",
    "\n",
    "fig = go.Figure(data=go.Heatmap(\n",
    "    z=heatmap_count.values,\n",
    "    x=heatmap_count.columns,\n",
    "    y=heatmap_count.index,\n",
    "    hoverongaps=False,\n",
    "    colorscale='Viridis',\n",
    "    hoverinfo='text',\n",
    "    text=ordered_tooltip_texts  # Usar la lista reordenada\n",
    "))\n",
    "\n",
    "for i, day in enumerate(heatmap_count.index):\n",
    "    for j, hour in enumerate(heatmap_count.columns):\n",
    "        fig.add_annotation(\n",
    "            x=hour,\n",
    "            y=day,\n",
    "            text=str(heatmap_count.at[day, hour]),\n",
    "            showarrow=False,\n",
    "            font=dict(color=\"white\")\n",
    "        )\n",
    "\n",
    "# Añadir título y etiquetas\n",
    "fig.update_layout(\n",
    "    title='Volumen de Pacientes por Día y Hora',\n",
    "    xaxis_title='Hora del Día',\n",
    "    yaxis_title='Día de la Semana'\n",
    ")\n",
    "\n",
    "# Mostrar la figura\n",
    "fig.show()\n"
   ]
  }
 ],
 "metadata": {
  "kernelspec": {
   "display_name": "Python 3",
   "language": "python",
   "name": "python3"
  },
  "language_info": {
   "codemirror_mode": {
    "name": "ipython",
    "version": 3
   },
   "file_extension": ".py",
   "mimetype": "text/x-python",
   "name": "python",
   "nbconvert_exporter": "python",
   "pygments_lexer": "ipython3",
   "version": "3.13.1"
  }
 },
 "nbformat": 4,
 "nbformat_minor": 2
}
